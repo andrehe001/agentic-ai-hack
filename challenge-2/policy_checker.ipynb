{
  "cells": [
    {
      "cell_type": "markdown",
      "metadata": {},
      "source": [
        "# Policy Checker with Azure AI Search\n",
        "\n",
        "This notebook demonstrates how to use agent operations with the Azure AI Search tool from the Azure Agents service using a synchronous client."
      ]
    },
    {
      "cell_type": "markdown",
      "metadata": {},
      "source": [
        "## Setup and Imports"
      ]
    },
    {
      "cell_type": "code",
      "execution_count": 1,
      "metadata": {},
      "outputs": [
        {
          "name": "stdout",
          "output_type": "stream",
          "text": [
            "✅ Libraries imported and environment variables loaded\n"
          ]
        }
      ],
      "source": [
        "# Import necessary libraries and modules\n",
        "import os\n",
        "from dotenv import load_dotenv\n",
        "from azure.identity import DefaultAzureCredential\n",
        "from azure.ai.projects import AIProjectClient\n",
        "from azure.ai.agents.models import AzureAISearchQueryType, AzureAISearchTool, ListSortOrder, MessageRole\n",
        "\n",
        "# Load environment variables from .env file\n",
        "load_dotenv(override=True)  # This forces a reload of the .env file\n",
        "\n",
        "print(\"✅ Libraries imported and environment variables loaded\")"
      ]
    },
    {
      "cell_type": "markdown",
      "metadata": {},
      "source": [
        "## Configuration"
      ]
    },
    {
      "cell_type": "code",
      "execution_count": 2,
      "metadata": {},
      "outputs": [
        {
          "name": "stdout",
          "output_type": "stream",
          "text": [
            "Created agent, ID: asst_PNByUt3tMhMbCebp5FoiBFGT\n",
            "Created thread, ID: thread_jIjAc0XWwV4nOAnerDQYihpY\n",
            "Created message, ID: msg_oAhKKE2EaRiWmc7WGZ3qu1Xy\n",
            "Run finished with status: RunStatus.COMPLETED\n"
          ]
        },
        {
          "data": {
            "text/html": [
              "\n",
              "                    <div style='font-family:Segoe UI, Roboto, sans-serif; border:1px solid #e0e0e0; border-radius:8px; padding:16px; box-shadow:0 1px 3px rgba(0,0,0,.08); background:#fff;'>\n",
              "                      <div style='font-weight:600; color:#0f6cbd; margin-bottom:8px;'>Policy Checker Result</div>\n",
              "                      <div style='white-space:pre-wrap; line-height:1.5; color:#242424;'>COVERED: The available motorcycle coverage options typically include liability coverage, comprehensive coverage, collision coverage, agreed value coverage especially tailored for antique and classic motorcycles, as well as coverage for show and exhibition, restoration during repairs, camping and touring equipment, spare parts, and memorabilia. Additionally, international travel coverage (Canada and Mexico with certain conditions) and out-of-state coverage enhancements are offered. Policyholders can also benefit from emergency transportation home coverage and extended trip protection. Discounts available include multi-vehicle, safe driver, anti-theft device, defensive driving course, good student, and low mileage discounts. Coverage terms may include standard 6 or 12-month policy periods with automatic renewal, and options for new vehicle replacement within 2 years under comprehensive and collision coverage. Specific coverage limits, deductibles, and exclusions would be outlined within the policy details. For exact coverage limits, deductibles, and conditions, review the motorcycle policy sections on coverage and terms, including Sections 9 and 10 for policy terms and special provisions. If you need coverage for Mexico beyond temporary visits, additional coverage is required.【3:0†motorcycle_policy.md】【3:2†comprehensive_auto_policy.md】</div>\n",
              "                    </div>\n",
              "                    "
            ],
            "text/plain": [
              "<IPython.core.display.HTML object>"
            ]
          },
          "metadata": {},
          "output_type": "display_data"
        }
      ],
      "source": [
        "# Retrieve endpoint and model deployment name from environment variables\n",
        "from IPython.display import display, HTML\n",
        "import html\n",
        "\n",
        "project_endpoint = os.environ.get(\"AI_FOUNDRY_PROJECT_ENDPOINT\")  # Ensure the PROJECT_ENDPOINT environment variable is set\n",
        "model_deployment_name = \"gpt-4.1-mini\"  # Ensure the MODEL_DEPLOYMENT_NAME environment variable is set\n",
        "sc_connection_id = os.environ.get(\"AZURE_AI_CONNECTION_ID\")  # Ensure the AZURE_AI_CONNECTION_ID environment variable is set\n",
        "\n",
        "project_client = AIProjectClient(\n",
        "    endpoint=project_endpoint,\n",
        "    credential=DefaultAzureCredential(exclude_interactive_browser_credential=False),  # Use Azure Default Credential for authentication\n",
        ")\n",
        "\n",
        "with project_client:\n",
        "    # Initialize the Azure AI Search tool with the required parameters\n",
        "    ai_search = AzureAISearchTool(\n",
        "        index_connection_id=sc_connection_id,  # Ensure the AZURE_AI_CONNECTION_ID environment variable is set\n",
        "        index_name=\"insurance-documents-index\",  # Name of the search index\n",
        "        query_type=AzureAISearchQueryType.SIMPLE,  # Query type (e.g., SIMPLE, FULL)\n",
        "        top_k=3,  # Number of top results to retrieve\n",
        "        filter=\"\",  # Optional filter for search results\n",
        "    )\n",
        "\n",
        "    # Create an agent with the specified model, name, instructions, and tools\n",
        "    agent = project_client.agents.create_agent(\n",
        "        model=model_deployment_name,  # Model deployment name\n",
        "        name=\"policy-checker\",  # Name of the agent\n",
        "        instructions=\n",
        "        \"\"\"\n",
        "        You are an expert Insurance Policy Checker Agent specialized in analyzing auto insurance policies and validating claim coverage. Your primary responsibilities include:\n",
        "\n",
        "        **Core Functions:**\n",
        "        - Analyze insurance policy documents to determine coverage details\n",
        "        - Validate if specific claims are covered under policy terms\n",
        "        - Explain policy limits, deductibles, and exclusions\n",
        "        - Identify coverage gaps or restrictions\n",
        "        - Provide clear explanations of policy benefits\n",
        "\n",
        "        **Policy Types You Handle:**\n",
        "        - Commercial Auto Policies\n",
        "        - Comprehensive Auto Policies  \n",
        "        - High Value Vehicle Policies\n",
        "        - Liability Only Policies\n",
        "        - Motorcycle Policies\n",
        "\n",
        "        **Analysis Guidelines:**\n",
        "        1. Always reference specific policy sections when providing coverage determinations\n",
        "        2. Clearly state coverage limits, deductibles, and any applicable restrictions\n",
        "        3. Identify any exclusions that may apply to the claim\n",
        "        4. Be precise about effective dates and policy periods\n",
        "        5. Flag any discrepancies between claim details and policy terms\n",
        "\n",
        "        **Response Format:**\n",
        "        - Start with a clear coverage determination (COVERED/NOT COVERED/PARTIAL COVERAGE)\n",
        "        - Provide the specific policy section reference\n",
        "        - Explain coverage limits and deductibles\n",
        "        - List any relevant exclusions or conditions\n",
        "        - Suggest next steps if coverage issues exist\n",
        "        - Everything in a clear, concise manner in one paragraph.\n",
        "\n",
        "        **Tone:** Professional, accurate, and helpful. Always be thorough in your analysis while remaining clear and concise.\n",
        "\n",
        "        When you cannot find specific information in the policy documents, clearly state what information is missing and what additional documentation would be needed.\n",
        "        \"\"\",  # Instructions for the agent\n",
        "        tools=ai_search.definitions,  # Tools available to the agent\n",
        "        tool_resources=ai_search.resources,  # Resources for the tools\n",
        "    )\n",
        "    print(f\"Created agent, ID: {agent.id}\")\n",
        "\n",
        "    # Create a thread for communication with the agent\n",
        "    thread = project_client.agents.threads.create()\n",
        "    print(f\"Created thread, ID: {thread.id}\")\n",
        "\n",
        "    # Send a message to the thread\n",
        "    message = project_client.agents.messages.create(\n",
        "        thread_id=thread.id,  # ID of the thread\n",
        "        role=MessageRole.USER,  # Role of the message sender (e.g., user)\n",
        "        content=\"What motorcycle coverage options are available?\",  # Message content\n",
        "    )\n",
        "    print(f\"Created message, ID: {message['id']}\")\n",
        "\n",
        "    # Create and process an agent run in the thread using the tools\n",
        "    run = project_client.agents.runs.create_and_process(thread_id=thread.id, agent_id=agent.id)\n",
        "    print(f\"Run finished with status: {run.status}\")\n",
        "\n",
        "    if run.status == \"failed\":\n",
        "        # Log the error if the run fails\n",
        "        print(f\"Run failed: {run.last_error}\")\n",
        "\n",
        "    # Fetch and log all messages from the thread\n",
        "    messages = project_client.agents.messages.list(thread_id=thread.id, order=ListSortOrder.ASCENDING)\n",
        "    for message in messages:\n",
        "        # Only show the agent's response, not the user's question\n",
        "        if message.role == MessageRole.AGENT:\n",
        "            if message.content and len(message.content) > 0:\n",
        "                content_item = message.content[0]\n",
        "                if content_item.get('type') == 'text' and 'text' in content_item:\n",
        "                    agent_response = content_item['text']['value']\n",
        "                    # Render a professional HTML output for the agent response\n",
        "                    escaped = html.escape(agent_response)\n",
        "                    html_output = f\"\"\"\n",
        "                    <div style='font-family:Segoe UI, Roboto, sans-serif; border:1px solid #e0e0e0; border-radius:8px; padding:16px; box-shadow:0 1px 3px rgba(0,0,0,.08); background:#fff;'>\n",
        "                      <div style='font-weight:600; color:#0f6cbd; margin-bottom:8px;'>Policy Checker Result</div>\n",
        "                      <div style='white-space:pre-wrap; line-height:1.5; color:#242424;'>{escaped}</div>\n",
        "                    </div>\n",
        "                    \"\"\"\n",
        "                    display(HTML(html_output))\n",
        "                    # try:\n",
        "                    #     project_client.agents.delete_agent(agent.id)\n",
        "                    #     print(f\"Agent {agent.id} deleted successfully.\")\n",
        "                    # except Exception as e:\n",
        "                    #     print(f\"Failed to delete agent: {e}\")\n",
        "                    break  # Only show the first agent response"
      ]
    },
    {
      "cell_type": "markdown",
      "metadata": {},
      "source": [
        "Amazing! So what you have done so far is creating an agent, that consults the Azure AI Search Index that searches on your policies databases. Your query has made it such as it replies to your query with a text based solution. Let's print it out!"
      ]
    }
  ],
  "metadata": {
    "kernelspec": {
      "display_name": ".venv",
      "language": "python",
      "name": "python3"
    },
    "language_info": {
      "codemirror_mode": {
        "name": "ipython",
        "version": 3
      },
      "file_extension": ".py",
      "mimetype": "text/x-python",
      "name": "python",
      "nbconvert_exporter": "python",
      "pygments_lexer": "ipython3",
      "version": "3.12.10"
    }
  },
  "nbformat": 4,
  "nbformat_minor": 4
}
